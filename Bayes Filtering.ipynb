{
 "cells": [
  {
   "cell_type": "code",
   "execution_count": 1,
   "id": "d4ce61e4",
   "metadata": {},
   "outputs": [
    {
     "name": "stdout",
     "output_type": "stream",
     "text": [
      "Requirement already satisfied: scikit-image in c:\\users\\berge\\anaconda3\\lib\\site-packages (0.18.1)\n",
      "Requirement already satisfied: numpy>=1.16.5 in c:\\users\\berge\\anaconda3\\lib\\site-packages (from scikit-image) (1.20.1)\n",
      "Requirement already satisfied: scipy>=1.0.1 in c:\\users\\berge\\anaconda3\\lib\\site-packages (from scikit-image) (1.6.2)\n",
      "Requirement already satisfied: matplotlib!=3.0.0,>=2.0.0 in c:\\users\\berge\\anaconda3\\lib\\site-packages (from scikit-image) (3.3.4)\n",
      "Requirement already satisfied: networkx>=2.0 in c:\\users\\berge\\anaconda3\\lib\\site-packages (from scikit-image) (2.5)\n",
      "Requirement already satisfied: pillow!=7.1.0,!=7.1.1,>=4.3.0 in c:\\users\\berge\\anaconda3\\lib\\site-packages (from scikit-image) (8.2.0)\n",
      "Requirement already satisfied: imageio>=2.3.0 in c:\\users\\berge\\anaconda3\\lib\\site-packages (from scikit-image) (2.9.0)\n",
      "Requirement already satisfied: tifffile>=2019.7.26 in c:\\users\\berge\\anaconda3\\lib\\site-packages (from scikit-image) (2021.4.8)\n",
      "Requirement already satisfied: PyWavelets>=1.1.1 in c:\\users\\berge\\anaconda3\\lib\\site-packages (from scikit-image) (1.1.1)\n",
      "Requirement already satisfied: pyparsing!=2.0.4,!=2.1.2,!=2.1.6,>=2.0.3 in c:\\users\\berge\\anaconda3\\lib\\site-packages (from matplotlib!=3.0.0,>=2.0.0->scikit-image) (2.4.7)\n",
      "Requirement already satisfied: python-dateutil>=2.1 in c:\\users\\berge\\anaconda3\\lib\\site-packages (from matplotlib!=3.0.0,>=2.0.0->scikit-image) (2.8.1)\n",
      "Requirement already satisfied: kiwisolver>=1.0.1 in c:\\users\\berge\\anaconda3\\lib\\site-packages (from matplotlib!=3.0.0,>=2.0.0->scikit-image) (1.3.1)\n",
      "Requirement already satisfied: cycler>=0.10 in c:\\users\\berge\\anaconda3\\lib\\site-packages (from matplotlib!=3.0.0,>=2.0.0->scikit-image) (0.10.0)\n",
      "Requirement already satisfied: six in c:\\users\\berge\\anaconda3\\lib\\site-packages (from cycler>=0.10->matplotlib!=3.0.0,>=2.0.0->scikit-image) (1.15.0)\n",
      "Requirement already satisfied: decorator>=4.3.0 in c:\\users\\berge\\anaconda3\\lib\\site-packages (from networkx>=2.0->scikit-image) (5.0.6)\n"
     ]
    }
   ],
   "source": [
    "import sys\n",
    "!{sys.executable} -m pip install scikit-image"
   ]
  },
  {
   "cell_type": "code",
   "execution_count": 2,
   "id": "f181d18f",
   "metadata": {},
   "outputs": [],
   "source": [
    "%load_ext autoreload\n",
    "%autoreload 2\n",
    "import numpy as np\n",
    "import matplotlib.pyplot as plt\n",
    "import matplotlib.cm as cm\n",
    "import matplotlib.animation as animation\n",
    "import IPython.display as ipd\n",
    "from environment import *"
   ]
  },
  {
   "cell_type": "code",
   "execution_count": 3,
   "id": "4f9a4670",
   "metadata": {},
   "outputs": [
    {
     "data": {
      "image/png": "[encoded data removed]",
      "text/plain": [
       "<Figure size 432x288 with 1 Axes>"
      ]
     },
     "metadata": {
      "needs_background": "light"
     },
     "output_type": "display_data"
    }
   ],
   "source": [
    "## Step 1: Create the world and devise robot motion\n",
    "# Load in a particular environment\n",
    "env = Environment(\"Maze1.png\")\n",
    "# Devise a path through that environment that passes through 3 locations\n",
    "X = env.simulate_trajectory([[0, 15], [27, 40], [26, 12]])\n",
    "# Plot the environment with the path superimposed\n",
    "plt.figure()\n",
    "env.plot()\n",
    "plt.plot(X[:, 0], X[:, 1])\n",
    " \n",
    "## Step 2: Simulate scans at each position\n",
    "# How many angles to sample in the range scanner\n",
    "res = 50\n",
    "# The noise of the scanner (start with low noise to make the problem easier)\n",
    "alpha = 4\n",
    "# Make this repeatably pseudorandom by seeding so that the numbers you get match up with mine\n",
    "np.random.seed(0) \n",
    "# Create a list of scans.  Each scan holds a list of \"res\" laser ranges across all angles\n",
    "observed_scans = [env.get_range_scan(X[i, :], res, alpha) for i in range(X.shape[0])]\n",
    "state_scans = env.get_state_scans(res)"
   ]
  },
  {
   "cell_type": "code",
   "execution_count": 4,
   "id": "c5a8a3fb",
   "metadata": {},
   "outputs": [],
   "source": [
    "def get_measurement_prob(state_scans, observed_scans, alpha, gamma=0.1):\n",
    "    probability = 1\n",
    "    for i in range(len(state_scans)):\n",
    "        ri = state_scans[i]\n",
    "        xi = observed_scans[i]\n",
    "        exponent = np.exp( -1*( ( (xi-ri)**2) / (2*((alpha*ri)+gamma)**2) ) ) \n",
    "        fraction = 1 / ((np.sqrt(2*np.pi)) * ( (alpha*ri) + gamma))\n",
    "        probability *= fraction*exponent\n",
    "        \n",
    "    return probability"
   ]
  },
  {
   "cell_type": "code",
   "execution_count": 5,
   "id": "e8b13ecd",
   "metadata": {},
   "outputs": [
    {
     "data": {
      "text/plain": [
       "<matplotlib.legend.Legend at 0x26754239eb0>"
      ]
     },
     "execution_count": 5,
     "metadata": {},
     "output_type": "execute_result"
    },
    {
     "data": {
      "image/png": "[encoded data removed]",
      "text/plain": [
       "<Figure size 432x288 with 1 Axes>"
      ]
     },
     "metadata": {
      "needs_background": "light"
     },
     "output_type": "display_data"
    }
   ],
   "source": [
    "N = len(state_scans)\n",
    "# Compute the measurement probability of the scan at each location\n",
    "meas_probs = np.zeros(N)\n",
    "idx = 55\n",
    "for i in range(N):\n",
    "    meas_probs[i] = get_measurement_prob(observed_scans[idx], state_scans[i], alpha)\n",
    "# Plot the measurement probabilities on the map\n",
    "env.plot_probabilities(meas_probs, p=1e-2, show_max=False)\n",
    "# Plot the ground truth location from the trajectory as an green dot\n",
    "plt.scatter([X[idx, 0]], X[idx, 1], c='C2') \n",
    "plt.legend([\"Ground Truth Location\"])"
   ]
  },
  {
   "cell_type": "code",
   "execution_count": 11,
   "id": "f8d466cb",
   "metadata": {},
   "outputs": [
    {
     "data": {
      "image/png": "[encoded data removed]",
      "text/plain": [
       "<Figure size 432x432 with 1 Axes>"
      ]
     },
     "metadata": {
      "needs_background": "light"
     },
     "output_type": "display_data"
    }
   ],
   "source": [
    "frames = [] # for storing the generated images\n",
    "fig = plt.figure(figsize=(6, 6))\n",
    "K = env.X.shape[0] # Number of states\n",
    "probs = np.zeros(K)\n",
    "## TODO: Setup initial probabilities, etc\n",
    "f = np.ones(K)/K #K\n",
    "\n",
    "for n in range(X.shape[0]): # T Filter every measurement that comes in   T = X.shape[0]\n",
    "    ## TODO: Bayes filtering for this frame index\n",
    "    \n",
    "    g = np.zeros(K)\n",
    "    \n",
    "    for k in range(K):\n",
    "        meas = get_measurement_prob(state_scans[k], observed_scans[n], alpha)\n",
    "        #print(meas)\n",
    "        trans = 0\n",
    "    \n",
    "        for j in env.neighbors[k]:\n",
    "            trans = trans + f[j]/len(env.neighbors[j])\n",
    "            #print(trans)\n",
    "            \n",
    "        g[k] = meas * trans\n",
    "        \n",
    "   \n",
    "    \n",
    "    sigma = np.sum(g)\n",
    "    f = g/sigma\n",
    "        \n",
    "        \n",
    "    plot = env.plot_probabilities(f, p=1e-2)\n",
    "    plot.append(plt.scatter([X[n, 0]], [X[n, 1]], c='C0'))\n",
    "    frames.append(plot)\n",
    "ani = animation.ArtistAnimation(fig, frames, interval=200, blit=True, repeat_delay=1000)\n",
    "#ipd.HTML(ani.to_html5_video())"
   ]
  },
  {
   "cell_type": "code",
   "execution_count": 12,
   "id": "0552a008",
   "metadata": {},
   "outputs": [
    {
     "name": "stderr",
     "output_type": "stream",
     "text": [
      "MovieWriter ffmpeg unavailable; using Pillow instead.\n"
     ]
    }
   ],
   "source": [
    "ani.save(\"out.gif\")"
   ]
  },
  {
   "cell_type": "code",
   "execution_count": null,
   "id": "feb36327",
   "metadata": {},
   "outputs": [],
   "source": []
  }
 ],
 "metadata": {
  "kernelspec": {
   "display_name": "Python 3",
   "language": "python",
   "name": "python3"
  },
  "language_info": {
   "codemirror_mode": {
    "name": "ipython",
    "version": 3
   },
   "file_extension": ".py",
   "mimetype": "text/x-python",
   "name": "python",
   "nbconvert_exporter": "python",
   "pygments_lexer": "ipython3",
   "version": "3.8.8"
  }
 },
 "nbformat": 4,
 "nbformat_minor": 5
}
