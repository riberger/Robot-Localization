{
 "cells": [
  {
   "cell_type": "code",
   "execution_count": 1,
   "id": "21b10f94",
   "metadata": {},
   "outputs": [
    {
     "name": "stdout",
     "output_type": "stream",
     "text": [
      "Requirement already satisfied: scikit-image in c:\\users\\berge\\anaconda3\\lib\\site-packages (0.18.1)\n",
      "Requirement already satisfied: numpy>=1.16.5 in c:\\users\\berge\\anaconda3\\lib\\site-packages (from scikit-image) (1.20.1)\n",
      "Requirement already satisfied: scipy>=1.0.1 in c:\\users\\berge\\anaconda3\\lib\\site-packages (from scikit-image) (1.6.2)\n",
      "Requirement already satisfied: matplotlib!=3.0.0,>=2.0.0 in c:\\users\\berge\\anaconda3\\lib\\site-packages (from scikit-image) (3.3.4)\n",
      "Requirement already satisfied: networkx>=2.0 in c:\\users\\berge\\anaconda3\\lib\\site-packages (from scikit-image) (2.5)\n",
      "Requirement already satisfied: pillow!=7.1.0,!=7.1.1,>=4.3.0 in c:\\users\\berge\\anaconda3\\lib\\site-packages (from scikit-image) (8.2.0)\n",
      "Requirement already satisfied: imageio>=2.3.0 in c:\\users\\berge\\anaconda3\\lib\\site-packages (from scikit-image) (2.9.0)\n",
      "Requirement already satisfied: tifffile>=2019.7.26 in c:\\users\\berge\\anaconda3\\lib\\site-packages (from scikit-image) (2021.4.8)\n",
      "Requirement already satisfied: PyWavelets>=1.1.1 in c:\\users\\berge\\anaconda3\\lib\\site-packages (from scikit-image) (1.1.1)\n",
      "Requirement already satisfied: python-dateutil>=2.1 in c:\\users\\berge\\anaconda3\\lib\\site-packages (from matplotlib!=3.0.0,>=2.0.0->scikit-image) (2.8.1)\n",
      "Requirement already satisfied: pyparsing!=2.0.4,!=2.1.2,!=2.1.6,>=2.0.3 in c:\\users\\berge\\anaconda3\\lib\\site-packages (from matplotlib!=3.0.0,>=2.0.0->scikit-image) (2.4.7)\n",
      "Requirement already satisfied: kiwisolver>=1.0.1 in c:\\users\\berge\\anaconda3\\lib\\site-packages (from matplotlib!=3.0.0,>=2.0.0->scikit-image) (1.3.1)\n",
      "Requirement already satisfied: cycler>=0.10 in c:\\users\\berge\\anaconda3\\lib\\site-packages (from matplotlib!=3.0.0,>=2.0.0->scikit-image) (0.10.0)\n",
      "Requirement already satisfied: six in c:\\users\\berge\\anaconda3\\lib\\site-packages (from cycler>=0.10->matplotlib!=3.0.0,>=2.0.0->scikit-image) (1.15.0)\n",
      "Requirement already satisfied: decorator>=4.3.0 in c:\\users\\berge\\anaconda3\\lib\\site-packages (from networkx>=2.0->scikit-image) (5.0.6)\n"
     ]
    }
   ],
   "source": [
    "import sys\n",
    "!{sys.executable} -m pip install scikit-image"
   ]
  },
  {
   "cell_type": "code",
   "execution_count": 2,
   "id": "076b3c15",
   "metadata": {},
   "outputs": [],
   "source": [
    "%load_ext autoreload\n",
    "%autoreload 2\n",
    "import numpy as np\n",
    "import matplotlib.pyplot as plt\n",
    "import matplotlib.cm as cm\n",
    "import matplotlib.animation as animation\n",
    "import IPython.display as ipd\n",
    "from environment import *"
   ]
  },
  {
   "cell_type": "code",
   "execution_count": 3,
   "id": "7bdaf505",
   "metadata": {},
   "outputs": [
    {
     "data": {
      "image/png": "[encoded data removed]",
      "text/plain": [
       "<Figure size 432x288 with 1 Axes>"
      ]
     },
     "metadata": {
      "needs_background": "light"
     },
     "output_type": "display_data"
    }
   ],
   "source": [
    "## Step 1: Create the world and devise robot motion\n",
    "# Load in a particular environment\n",
    "env = Environment(\"Maze1.png\")\n",
    "# Devise a path through that environment that passes through 3 locations\n",
    "X = env.simulate_trajectory([[0, 15], [27, 40], [26, 12]])\n",
    "# Plot the environment with the path superimposed\n",
    "plt.figure()\n",
    "env.plot()\n",
    "plt.plot(X[:, 0], X[:, 1])\n",
    " \n",
    "## Step 2: Simulate scans at each position\n",
    "# How many angles to sample in the range scanner\n",
    "res = 50\n",
    "# The noise of the scanner (start with low noise to make the problem easier)\n",
    "alpha = 4\n",
    "# Make this repeatably pseudorandom by seeding so that the numbers you get match up with mine\n",
    "np.random.seed(0) \n",
    "# Create a list of scans.  Each scan holds a list of \"res\" laser ranges across all angles\n",
    "observed_scans = [env.get_range_scan(X[i, :], res, alpha) for i in range(X.shape[0])]\n",
    "state_scans = env.get_state_scans(res)"
   ]
  },
  {
   "cell_type": "code",
   "execution_count": 4,
   "id": "239ac23c",
   "metadata": {},
   "outputs": [],
   "source": [
    "def get_measurement_prob(state_scans, observed_scans, alpha, gamma=0.1):\n",
    "    probability = 1\n",
    "    for i in range(len(state_scans)):\n",
    "        ri = state_scans[i]\n",
    "        xi = observed_scans[i]\n",
    "        \n",
    "        exponent = (xi-ri)**2 / (2*((alpha*ri)+gamma)*2)\n",
    "        fraction = np.log(np.sqrt(2*np.pi) * ((alpha*ri) + gamma))\n",
    "        probability += -exponent - fraction\n",
    "               \n",
    "    return probability"
   ]
  },
  {
   "cell_type": "code",
   "execution_count": 5,
   "id": "4496caca",
   "metadata": {},
   "outputs": [
    {
     "name": "stdout",
     "output_type": "stream",
     "text": [
      "464.0\n"
     ]
    }
   ],
   "source": [
    "K = len(state_scans) # Number of states\n",
    "T = X.shape[0] # Number of timesteps\n",
    "L = np.zeros((T,K))\n",
    "B = np.zeros((T,K))\n",
    "\n",
    "for q in range(K):\n",
    "    L[1,q] = np.log(1/K) + get_measurement_prob(state_scans[q], observed_scans[0], alpha)\n",
    "    B[1,q] = -1\n",
    "        \n",
    "for n in range(1,T):   \n",
    "    for k in range(K):\n",
    "        maxj = -1\n",
    "        maxval = -np.inf\n",
    "        \n",
    "        for j in env.neighbors[k]:\n",
    "            val = L[n-1,j] + np.log(1/len(env.neighbors[j]))\n",
    "            if val > maxval:\n",
    "                maxj = j\n",
    "                maxval = val\n",
    "    \n",
    "        L[n,k] = maxval + get_measurement_prob(state_scans[k], observed_scans[n], alpha)             \n",
    "        B[n,k] = maxj\n",
    "\n",
    "state = np.argmax(L[-1, :])\n",
    "states = []     \n",
    "\n",
    "#Subtracted 1 to keep it inbounds\n",
    "n = T - 1\n",
    "\n",
    "print(np.max(B))\n",
    "while n >= 0:\n",
    "    states.append(state)\n",
    "    state = B[n,int(state)]\n",
    "    n = n - 1\n",
    "                    \n",
    "states.reverse()"
   ]
  },
  {
   "cell_type": "code",
   "execution_count": 6,
   "id": "e8b791f2",
   "metadata": {},
   "outputs": [
    {
     "data": {
      "text/plain": [
       "Text(0.5, 1.0, 'Estimated Trajectory, $\\\\alpha=4.000$')"
      ]
     },
     "execution_count": 6,
     "metadata": {},
     "output_type": "execute_result"
    },
    {
     "data": {
      "image/png": "[encoded data removed]",
      "text/plain": [
       "<Figure size 432x288 with 1 Axes>"
      ]
     },
     "metadata": {
      "needs_background": "light"
     },
     "output_type": "display_data"
    }
   ],
   "source": [
    "states = np.array(states, dtype=int)\n",
    "Y = env.X[states, :]\n",
    "plt.figure()\n",
    "plt.plot(X[:, 0], X[:, 1], 'k', linewidth=4)\n",
    "plt.plot(Y[:, 0], Y[:, 1], 'C1', linestyle='--')\n",
    "plt.legend([\"Ground Truth\", \"Estimated\"])\n",
    "plt.axis(\"equal\")\n",
    "plt.title(\"Estimated Trajectory, $\\\\alpha={:.3f}$\".format(alpha))"
   ]
  },
  {
   "cell_type": "code",
   "execution_count": 7,
   "id": "c6e685ff",
   "metadata": {},
   "outputs": [
    {
     "data": {
      "image/png": "[encoded data removed]",
      "text/plain": [
       "<Figure size 432x288 with 1 Axes>"
      ]
     },
     "metadata": {
      "needs_background": "light"
     },
     "output_type": "display_data"
    }
   ],
   "source": [
    "## ORIGINAL MAZE ATTEMPT \n",
    "\n",
    "env = Environment(\"Maze6.png\")\n",
    "# Devise a path through that environment that passes through 3 locations\n",
    "X = env.simulate_trajectory([[0, 23], [43, 6], [9, 43]])\n",
    "# Plot the environment with the path superimposed\n",
    "plt.figure()\n",
    "env.plot()\n",
    "plt.plot(X[:, 0], X[:, 1])\n",
    " \n",
    "## Step 2: Simulate scans at each position\n",
    "# How many angles to sample in the range scanner\n",
    "res = 50\n",
    "# The noise of the scanner (start with low noise to make the problem easier)\n",
    "alpha = 4\n",
    "# Make this repeatably pseudorandom by seeding so that the numbers you get match up with mine\n",
    "np.random.seed(0) \n",
    "# Create a list of scans.  Each scan holds a list of \"res\" laser ranges across all angles\n",
    "observed_scans = [env.get_range_scan(X[i, :], res, alpha) for i in range(X.shape[0])]\n",
    "state_scans = env.get_state_scans(res)"
   ]
  }
 ],
 "metadata": {
  "kernelspec": {
   "display_name": "Python 3 (ipykernel)",
   "language": "python",
   "name": "python3"
  },
  "language_info": {
   "codemirror_mode": {
    "name": "ipython",
    "version": 3
   },
   "file_extension": ".py",
   "mimetype": "text/x-python",
   "name": "python",
   "nbconvert_exporter": "python",
   "pygments_lexer": "ipython3",
   "version": "3.8.8"
  }
 },
 "nbformat": 4,
 "nbformat_minor": 5
}
